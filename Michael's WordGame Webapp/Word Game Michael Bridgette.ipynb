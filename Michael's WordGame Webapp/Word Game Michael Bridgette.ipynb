{
 "cells": [
  {
   "cell_type": "code",
   "execution_count": 1,
   "metadata": {},
   "outputs": [],
   "source": [
    "with open('Words.txt', errors = 'ignore') as df: \n",
    "    rawData = df.read()"
   ]
  },
  {
   "cell_type": "code",
   "execution_count": 2,
   "metadata": {},
   "outputs": [],
   "source": [
    "words = rawData.split()\n",
    "totalWords = len(words)"
   ]
  },
  {
   "cell_type": "code",
   "execution_count": 3,
   "metadata": {},
   "outputs": [],
   "source": [
    "from random import randint\n"
   ]
  },
  {
   "cell_type": "code",
   "execution_count": 4,
   "metadata": {},
   "outputs": [],
   "source": [
    "#get words with 7 or more letters\n",
    "def GetPuzzleWordList():\n",
    "    puzzleList = []\n",
    "    for x in words:\n",
    "        if(len(x) >= 7):\n",
    "            puzzleList.append(x)\n",
    "    return puzzleList\n",
    "\n",
    "        "
   ]
  },
  {
   "cell_type": "code",
   "execution_count": 5,
   "metadata": {},
   "outputs": [],
   "source": [
    "listOfPuzzles = GetPuzzleWordList()"
   ]
  },
  {
   "cell_type": "code",
   "execution_count": 6,
   "metadata": {},
   "outputs": [],
   "source": [
    "#get the words that the player can use to guess with\n",
    "def GetUsableWords(lettersAmount):\n",
    "    usableWords= []\n",
    "    for x in words:\n",
    "        if(len(x) < lettersAmount):\n",
    "            if(len(x) > 2):\n",
    "                usableWords.append(x.lower())\n",
    "    return usableWords"
   ]
  },
  {
   "cell_type": "code",
   "execution_count": 7,
   "metadata": {},
   "outputs": [],
   "source": [
    "#check if a is contained within b\n",
    "def intersect(a, b):\n",
    "    if len(b) < len(a):  # if b is shorter than a\n",
    "        a, b = b, a      # swap the lists.\n",
    "    b = b[:]  # To prevent modifying the lists\n",
    "    return [b.pop(b.index(i)) for i in a if i in b]\n"
   ]
  },
  {
   "cell_type": "code",
   "execution_count": 8,
   "metadata": {},
   "outputs": [],
   "source": [
    "import pickle"
   ]
  },
  {
   "cell_type": "code",
   "execution_count": 9,
   "metadata": {},
   "outputs": [],
   "source": [
    "#display the 10 highscores\n",
    "def displayLeaderboard():\n",
    "    place = 1\n",
    "    count = 1\n",
    "    for x in leaderboard:\n",
    "        if(count <= 10):\n",
    "            print(place,\")\",x, round(data[x], 2))\n",
    "            place+=1\n",
    "            count+=1"
   ]
  },
  {
   "cell_type": "code",
   "execution_count": 10,
   "metadata": {},
   "outputs": [],
   "source": [
    "#add player to the highscores list\n",
    "def updateLeaderboard(name , totalTime):\n",
    "\n",
    "    with open('Players.pickle', 'rb') as pf:\n",
    "        data = pickle.load(pf)             #load data from pickle file\n",
    "\n",
    "    data[name] = totalTime #add new player\n",
    "    with open('Players.pickle', 'wb') as pf:\n",
    "        pickle.dump(data, pf)              #Put updated data back\n",
    "\n",
    "    sorted(data, key=data.get)\n",
    "    leaderboard = sorted(data, key=data.get)   #sort into a list\n",
    "\n",
    "    place = 1\n",
    "    count = 1\n",
    "    #display top 10 players\n",
    "    for x in leaderboard:\n",
    "\n",
    "        if(count <= 10):\n",
    "\n",
    "            print(place,\")\",x, round(data[x], 2))\n",
    "            place+=1\n",
    "            count+=1\n"
   ]
  },
  {
   "cell_type": "code",
   "execution_count": 11,
   "metadata": {},
   "outputs": [],
   "source": [
    "#get the players position on the leaderboard\n",
    "def getLeaderboardPosition(name):\n",
    "\n",
    "    with open('Players.pickle', 'rb') as pf:\n",
    "        players = pickle.load(pf)\n",
    "\n",
    "    #sorted(players, key=players.get)\n",
    "    leaderboard = sorted(players, key=players.get)\n",
    "    counter = 0\n",
    "    for i in leaderboard:\n",
    "        if i == name:\n",
    "            print(\"Your Leaderboard position:\", counter+1 )\n",
    "        counter+=1\n",
    "    \n",
    "    "
   ]
  },
  {
   "cell_type": "code",
   "execution_count": 12,
   "metadata": {},
   "outputs": [],
   "source": [
    "#check for input if the player wants to play again\n",
    "def playAgain():\n",
    "    playGame = False\n",
    "    while True:\n",
    "        playAgain = input(\"Do you want to play again?(y/n): \\n\")\n",
    "\n",
    "        if playAgain == 'y':\n",
    "            playGame = True\n",
    "            break\n",
    "        if playAgain == 'n':\n",
    "            playGame = False\n",
    "            break\n",
    "\n",
    "    return playGame"
   ]
  },
  {
   "cell_type": "code",
   "execution_count": 13,
   "metadata": {},
   "outputs": [
    {
     "name": "stdout",
     "output_type": "stream",
     "text": [
      "Welcome to my Word Game.\n",
      "You need to get 7 words made up of a randomly generated word.\n",
      "Type in a word and press Enter\n",
      "press Enter when your ready to play!\n"
     ]
    }
   ],
   "source": [
    "while True:\n",
    "    print(\"Welcome to my Word Game.\\nYou need to get 7 words made up of a randomly generated word.\\nType in a word and press Enter\")\n",
    "    start  = input(\"Press Enter when your ready to play!\")\n",
    "    break\n",
    "    "
   ]
  },
  {
   "cell_type": "code",
   "execution_count": null,
   "metadata": {},
   "outputs": [],
   "source": [
    "import time\n",
    "\n",
    "while True:\n",
    "    wordCount = 0\n",
    "    foundWord = False\n",
    "    wordUsed = False\n",
    "    puzzleWord = listOfPuzzles[randint(0, len(listOfPuzzles))] #get random puzzle word\n",
    "    listOfUsableWords = GetUsableWords(len(puzzleWord)) #get a list of words that can be used\n",
    "    usedWords = []\n",
    "\n",
    "    print('Make words out of' , puzzleWord )\n",
    "\n",
    "    t0 = time.time() #start timer\n",
    "    while True:\n",
    "\n",
    "        #force player to type something\n",
    "        while True:\n",
    "            target = \"\"\n",
    "            target  = input(\"Please enter a Word: \")\n",
    "            if len(target) > 0:\n",
    "                break\n",
    "\n",
    "        #check if the player has found a word that is acceptable\n",
    "        if intersect(list(puzzleWord.lower()), list(target.lower())) == list(target.lower()) and target.lower() in listOfUsableWords and target.lower() != puzzleWord.lower():\n",
    "            foundWord = True\n",
    "\n",
    "        else:\n",
    "            foundWord = False\n",
    "            print(\"Not a valid Word!\\n\")\n",
    "\n",
    "        if foundWord == True:\n",
    "            for x in usedWords:\n",
    "                if x == target.lower():\n",
    "                    print(\"Word already used!!!\\n\")\n",
    "                    wordUsed = True\n",
    "\n",
    "\n",
    "            if wordUsed == False:\n",
    "                usedWords.append(target.lower())\n",
    "                print(\"Word Found!!!\")\n",
    "                wordCount += 1\n",
    "                print(7 - wordCount, \"remaining\\n\")\n",
    "                foundWord = False\n",
    "\n",
    "            wordUsed = False\n",
    "\n",
    "            #seven words mean they win\n",
    "            if wordCount == 7:\n",
    "                t1 = time.time()\n",
    "                total = t1-t0\n",
    "                name = input(\"What is your name? \")\n",
    "                print(\"YOU WIN\", name.upper(), \"!\\n\")\n",
    "                print(\"Time:\",round(total, 2), \"seconds\\n\\n\")\n",
    "                print(\"\\n\")\n",
    "                print(\"LEADERBOARD\")\n",
    "                print(\"***********\")\n",
    "                updateLeaderboard(name, total)\n",
    "                print(\"\\n\")\n",
    "                getLeaderboardPosition(name)\n",
    "                print(\"\\n\")\n",
    "                break\n",
    "\n",
    "    if playAgain() == False:\n",
    "        break"
   ]
  },
  {
   "cell_type": "code",
   "execution_count": null,
   "metadata": {},
   "outputs": [],
   "source": []
  }
 ],
 "metadata": {
  "kernelspec": {
   "display_name": "Python 3",
   "language": "python",
   "name": "python3"
  },
  "language_info": {
   "codemirror_mode": {
    "name": "ipython",
    "version": 3
   },
   "file_extension": ".py",
   "mimetype": "text/x-python",
   "name": "python",
   "nbconvert_exporter": "python",
   "pygments_lexer": "ipython3",
   "version": "3.6.3"
  }
 },
 "nbformat": 4,
 "nbformat_minor": 2
}
